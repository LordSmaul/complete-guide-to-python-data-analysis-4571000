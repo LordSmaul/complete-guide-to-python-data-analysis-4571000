{
 "cells": [
  {
   "cell_type": "markdown",
   "metadata": {},
   "source": [
    "# 05_02: pandas DataFrames and Series"
   ]
  },
  {
   "cell_type": "code",
   "execution_count": 1,
   "metadata": {},
   "outputs": [],
   "source": [
    "import math\n",
    "import collections\n",
    "import dataclasses\n",
    "import datetime\n",
    "\n",
    "import numpy as np\n",
    "import pandas as pd\n",
    "import matplotlib.pyplot as plt"
   ]
  },
  {
   "cell_type": "code",
   "execution_count": 3,
   "metadata": {},
   "outputs": [],
   "source": [
    "nobels = pd.read_csv('nobels.csv', names=['year', 'discipline', 'nobelist', 'DOB'],\n",
    "                     dtype_backend='pyarrow', engine='pyarrow') # use arrow for backend and parsing"
   ]
  },
  {
   "cell_type": "code",
   "execution_count": 4,
   "metadata": {},
   "outputs": [
    {
     "name": "stdout",
     "output_type": "stream",
     "text": [
      "<class 'pandas.core.frame.DataFrame'>\n",
      "RangeIndex: 1000 entries, 0 to 999\n",
      "Data columns (total 4 columns):\n",
      " #   Column      Non-Null Count  Dtype               \n",
      "---  ------      --------------  -----               \n",
      " 0   year        1000 non-null   int64[pyarrow]      \n",
      " 1   discipline  1000 non-null   string[pyarrow]     \n",
      " 2   nobelist    1000 non-null   string[pyarrow]     \n",
      " 3   DOB         956 non-null    date32[day][pyarrow]\n",
      "dtypes: date32[day][pyarrow](1), int64[pyarrow](1), string[pyarrow](2)\n",
      "memory usage: 42.9 KB\n"
     ]
    }
   ],
   "source": [
    "nobels.info()"
   ]
  },
  {
   "cell_type": "code",
   "execution_count": 5,
   "metadata": {},
   "outputs": [
    {
     "data": {
      "text/html": [
       "<div>\n",
       "<style scoped>\n",
       "    .dataframe tbody tr th:only-of-type {\n",
       "        vertical-align: middle;\n",
       "    }\n",
       "\n",
       "    .dataframe tbody tr th {\n",
       "        vertical-align: top;\n",
       "    }\n",
       "\n",
       "    .dataframe thead th {\n",
       "        text-align: right;\n",
       "    }\n",
       "</style>\n",
       "<table border=\"1\" class=\"dataframe\">\n",
       "  <thead>\n",
       "    <tr style=\"text-align: right;\">\n",
       "      <th></th>\n",
       "      <th>year</th>\n",
       "      <th>discipline</th>\n",
       "      <th>nobelist</th>\n",
       "      <th>DOB</th>\n",
       "    </tr>\n",
       "  </thead>\n",
       "  <tbody>\n",
       "    <tr>\n",
       "      <th>0</th>\n",
       "      <td>1901</td>\n",
       "      <td>Chemistry</td>\n",
       "      <td>Jacobus H. van 't Hoff</td>\n",
       "      <td>1852-08-30</td>\n",
       "    </tr>\n",
       "    <tr>\n",
       "      <th>1</th>\n",
       "      <td>1901</td>\n",
       "      <td>Literature</td>\n",
       "      <td>Sully Prudhomme</td>\n",
       "      <td>1839-03-16</td>\n",
       "    </tr>\n",
       "    <tr>\n",
       "      <th>2</th>\n",
       "      <td>1901</td>\n",
       "      <td>Medicine</td>\n",
       "      <td>Emil von Behring</td>\n",
       "      <td>1854-03-15</td>\n",
       "    </tr>\n",
       "    <tr>\n",
       "      <th>3</th>\n",
       "      <td>1901</td>\n",
       "      <td>Peace</td>\n",
       "      <td>Frédéric Passy</td>\n",
       "      <td>1822-05-20</td>\n",
       "    </tr>\n",
       "    <tr>\n",
       "      <th>4</th>\n",
       "      <td>1901</td>\n",
       "      <td>Peace</td>\n",
       "      <td>Henry Dunant</td>\n",
       "      <td>1828-05-08</td>\n",
       "    </tr>\n",
       "  </tbody>\n",
       "</table>\n",
       "</div>"
      ],
      "text/plain": [
       "   year  discipline                nobelist         DOB\n",
       "0  1901   Chemistry  Jacobus H. van 't Hoff  1852-08-30\n",
       "1  1901  Literature         Sully Prudhomme  1839-03-16\n",
       "2  1901    Medicine        Emil von Behring  1854-03-15\n",
       "3  1901       Peace          Frédéric Passy  1822-05-20\n",
       "4  1901       Peace            Henry Dunant  1828-05-08"
      ]
     },
     "execution_count": 5,
     "metadata": {},
     "output_type": "execute_result"
    }
   ],
   "source": [
    "nobels.head()"
   ]
  },
  {
   "cell_type": "code",
   "execution_count": 6,
   "metadata": {},
   "outputs": [
    {
     "data": {
      "text/html": [
       "<div>\n",
       "<style scoped>\n",
       "    .dataframe tbody tr th:only-of-type {\n",
       "        vertical-align: middle;\n",
       "    }\n",
       "\n",
       "    .dataframe tbody tr th {\n",
       "        vertical-align: top;\n",
       "    }\n",
       "\n",
       "    .dataframe thead th {\n",
       "        text-align: right;\n",
       "    }\n",
       "</style>\n",
       "<table border=\"1\" class=\"dataframe\">\n",
       "  <thead>\n",
       "    <tr style=\"text-align: right;\">\n",
       "      <th></th>\n",
       "      <th>year</th>\n",
       "      <th>discipline</th>\n",
       "      <th>nobelist</th>\n",
       "      <th>DOB</th>\n",
       "    </tr>\n",
       "  </thead>\n",
       "  <tbody>\n",
       "    <tr>\n",
       "      <th>995</th>\n",
       "      <td>2023</td>\n",
       "      <td>Medicine</td>\n",
       "      <td>Katalin Karikó</td>\n",
       "      <td>1955-01-17</td>\n",
       "    </tr>\n",
       "    <tr>\n",
       "      <th>996</th>\n",
       "      <td>2023</td>\n",
       "      <td>Peace</td>\n",
       "      <td>Narges Mohammadi</td>\n",
       "      <td>1972-04-21</td>\n",
       "    </tr>\n",
       "    <tr>\n",
       "      <th>997</th>\n",
       "      <td>2023</td>\n",
       "      <td>Physics</td>\n",
       "      <td>Anne L’Huillier</td>\n",
       "      <td>1958-08-16</td>\n",
       "    </tr>\n",
       "    <tr>\n",
       "      <th>998</th>\n",
       "      <td>2023</td>\n",
       "      <td>Physics</td>\n",
       "      <td>Ferenc Krausz</td>\n",
       "      <td>1962-05-17</td>\n",
       "    </tr>\n",
       "    <tr>\n",
       "      <th>999</th>\n",
       "      <td>2023</td>\n",
       "      <td>Physics</td>\n",
       "      <td>Pierre Agostini</td>\n",
       "      <td>1941-07-23</td>\n",
       "    </tr>\n",
       "  </tbody>\n",
       "</table>\n",
       "</div>"
      ],
      "text/plain": [
       "     year discipline          nobelist         DOB\n",
       "995  2023   Medicine    Katalin Karikó  1955-01-17\n",
       "996  2023      Peace  Narges Mohammadi  1972-04-21\n",
       "997  2023    Physics   Anne L’Huillier  1958-08-16\n",
       "998  2023    Physics     Ferenc Krausz  1962-05-17\n",
       "999  2023    Physics   Pierre Agostini  1941-07-23"
      ]
     },
     "execution_count": 6,
     "metadata": {},
     "output_type": "execute_result"
    }
   ],
   "source": [
    "nobels.tail()"
   ]
  },
  {
   "cell_type": "code",
   "execution_count": 7,
   "metadata": {},
   "outputs": [
    {
     "data": {
      "text/plain": [
       "1000"
      ]
     },
     "execution_count": 7,
     "metadata": {},
     "output_type": "execute_result"
    }
   ],
   "source": [
    "len(nobels)"
   ]
  },
  {
   "cell_type": "code",
   "execution_count": 8,
   "metadata": {},
   "outputs": [
    {
     "data": {
      "text/plain": [
       "Index(['year', 'discipline', 'nobelist', 'DOB'], dtype='object')"
      ]
     },
     "execution_count": 8,
     "metadata": {},
     "output_type": "execute_result"
    }
   ],
   "source": [
    "nobels.columns"
   ]
  },
  {
   "cell_type": "code",
   "execution_count": 9,
   "metadata": {},
   "outputs": [
    {
     "data": {
      "text/plain": [
       "year                int64[pyarrow]\n",
       "discipline         string[pyarrow]\n",
       "nobelist           string[pyarrow]\n",
       "DOB           date32[day][pyarrow]\n",
       "dtype: object"
      ]
     },
     "execution_count": 9,
     "metadata": {},
     "output_type": "execute_result"
    }
   ],
   "source": [
    "nobels.dtypes"
   ]
  },
  {
   "cell_type": "code",
   "execution_count": 10,
   "metadata": {},
   "outputs": [
    {
     "data": {
      "text/plain": [
       "RangeIndex(start=0, stop=1000, step=1)"
      ]
     },
     "execution_count": 10,
     "metadata": {},
     "output_type": "execute_result"
    }
   ],
   "source": [
    "nobels.index"
   ]
  },
  {
   "cell_type": "code",
   "execution_count": 11,
   "metadata": {},
   "outputs": [
    {
     "data": {
      "text/plain": [
       "0       Chemistry\n",
       "1      Literature\n",
       "2        Medicine\n",
       "3           Peace\n",
       "4           Peace\n",
       "          ...    \n",
       "995      Medicine\n",
       "996         Peace\n",
       "997       Physics\n",
       "998       Physics\n",
       "999       Physics\n",
       "Name: discipline, Length: 1000, dtype: string[pyarrow]"
      ]
     },
     "execution_count": 11,
     "metadata": {},
     "output_type": "execute_result"
    }
   ],
   "source": [
    "nobels['discipline']"
   ]
  },
  {
   "cell_type": "code",
   "execution_count": 12,
   "metadata": {},
   "outputs": [
    {
     "data": {
      "text/plain": [
       "0      Jacobus H. van 't Hoff\n",
       "1             Sully Prudhomme\n",
       "2            Emil von Behring\n",
       "3              Frédéric Passy\n",
       "4                Henry Dunant\n",
       "                ...          \n",
       "995            Katalin Karikó\n",
       "996          Narges Mohammadi\n",
       "997           Anne L’Huillier\n",
       "998             Ferenc Krausz\n",
       "999           Pierre Agostini\n",
       "Name: nobelist, Length: 1000, dtype: string[pyarrow]"
      ]
     },
     "execution_count": 12,
     "metadata": {},
     "output_type": "execute_result"
    }
   ],
   "source": [
    "nobels.nobelist"
   ]
  },
  {
   "cell_type": "code",
   "execution_count": 13,
   "metadata": {},
   "outputs": [
    {
     "data": {
      "text/plain": [
       "<ArrowExtensionArray>\n",
       "[ 'Chemistry', 'Literature',   'Medicine',      'Peace',      'Peace',\n",
       "    'Physics',  'Chemistry', 'Literature',   'Medicine',      'Peace',\n",
       "      'Peace',    'Physics',    'Physics',  'Chemistry', 'Literature',\n",
       "   'Medicine',      'Peace',    'Physics',    'Physics',    'Physics',\n",
       "  'Chemistry', 'Literature', 'Literature',   'Medicine',      'Peace',\n",
       "    'Physics',  'Chemistry', 'Literature',   'Medicine',      'Peace',\n",
       "    'Physics',  'Chemistry', 'Literature',   'Medicine',   'Medicine',\n",
       "      'Peace',    'Physics',  'Chemistry', 'Literature',   'Medicine',\n",
       "      'Peace',      'Peace',    'Physics',  'Chemistry', 'Literature',\n",
       "   'Medicine',   'Medicine',      'Peace',      'Peace',    'Physics']\n",
       "Length: 50, dtype: string[pyarrow]"
      ]
     },
     "execution_count": 13,
     "metadata": {},
     "output_type": "execute_result"
    }
   ],
   "source": [
    "nobels.discipline.values[:50]"
   ]
  },
  {
   "cell_type": "code",
   "execution_count": 14,
   "metadata": {},
   "outputs": [
    {
     "data": {
      "text/plain": [
       "array([1901, 1901, 1901, 1901, 1901, 1901, 1902, 1902, 1902, 1902, 1902,\n",
       "       1902, 1902, 1903, 1903, 1903, 1903, 1903, 1903, 1903, 1904, 1904,\n",
       "       1904, 1904, 1904, 1904, 1905, 1905, 1905, 1905, 1905, 1906, 1906,\n",
       "       1906, 1906, 1906, 1906, 1907, 1907, 1907, 1907, 1907, 1907, 1908,\n",
       "       1908, 1908, 1908, 1908, 1908, 1908])"
      ]
     },
     "execution_count": 14,
     "metadata": {},
     "output_type": "execute_result"
    }
   ],
   "source": [
    "nobels.year.values.to_numpy()[:50]"
   ]
  },
  {
   "cell_type": "code",
   "execution_count": 15,
   "metadata": {},
   "outputs": [
    {
     "data": {
      "text/plain": [
       "<ArrowExtensionArray>\n",
       "['Chemistry', 'Literature', 'Medicine', 'Peace', 'Physics', 'Economics']\n",
       "Length: 6, dtype: string[pyarrow]"
      ]
     },
     "execution_count": 15,
     "metadata": {},
     "output_type": "execute_result"
    }
   ],
   "source": [
    "nobels.discipline.unique()"
   ]
  },
  {
   "cell_type": "code",
   "execution_count": 16,
   "metadata": {},
   "outputs": [
    {
     "data": {
      "text/plain": [
       "nobelist\n",
       "International Committee of the Red Cross                       3\n",
       "Marie Curie                                                    2\n",
       "Linus Pauling                                                  2\n",
       "Office of the United Nations High Commissioner for Refugees    2\n",
       "John Bardeen                                                   2\n",
       "                                                              ..\n",
       "Katalin Karikó                                                 1\n",
       "Narges Mohammadi                                               1\n",
       "Anne L’Huillier                                                1\n",
       "Ferenc Krausz                                                  1\n",
       "Pierre Agostini                                                1\n",
       "Name: count, Length: 992, dtype: int64[pyarrow]"
      ]
     },
     "execution_count": 16,
     "metadata": {},
     "output_type": "execute_result"
    }
   ],
   "source": [
    "nobels.nobelist.value_counts()"
   ]
  },
  {
   "cell_type": "code",
   "execution_count": 17,
   "metadata": {},
   "outputs": [
    {
     "data": {
      "text/html": [
       "<div>\n",
       "<style scoped>\n",
       "    .dataframe tbody tr th:only-of-type {\n",
       "        vertical-align: middle;\n",
       "    }\n",
       "\n",
       "    .dataframe tbody tr th {\n",
       "        vertical-align: top;\n",
       "    }\n",
       "\n",
       "    .dataframe thead th {\n",
       "        text-align: right;\n",
       "    }\n",
       "</style>\n",
       "<table border=\"1\" class=\"dataframe\">\n",
       "  <thead>\n",
       "    <tr style=\"text-align: right;\">\n",
       "      <th></th>\n",
       "      <th>year</th>\n",
       "      <th>discipline</th>\n",
       "      <th>nobelist</th>\n",
       "      <th>DOB</th>\n",
       "    </tr>\n",
       "  </thead>\n",
       "  <tbody>\n",
       "    <tr>\n",
       "      <th>959</th>\n",
       "      <td>2020</td>\n",
       "      <td>Physics</td>\n",
       "      <td>Andrea Ghez</td>\n",
       "      <td>1965-06-16</td>\n",
       "    </tr>\n",
       "    <tr>\n",
       "      <th>960</th>\n",
       "      <td>2020</td>\n",
       "      <td>Physics</td>\n",
       "      <td>Reinhard Genzel</td>\n",
       "      <td>1952-03-24</td>\n",
       "    </tr>\n",
       "    <tr>\n",
       "      <th>961</th>\n",
       "      <td>2020</td>\n",
       "      <td>Physics</td>\n",
       "      <td>Roger Penrose</td>\n",
       "      <td>1931-08-08</td>\n",
       "    </tr>\n",
       "    <tr>\n",
       "      <th>972</th>\n",
       "      <td>2021</td>\n",
       "      <td>Physics</td>\n",
       "      <td>Giorgio Parisi</td>\n",
       "      <td>1948-08-04</td>\n",
       "    </tr>\n",
       "    <tr>\n",
       "      <th>973</th>\n",
       "      <td>2021</td>\n",
       "      <td>Physics</td>\n",
       "      <td>Klaus Hasselmann</td>\n",
       "      <td>1931-10-25</td>\n",
       "    </tr>\n",
       "    <tr>\n",
       "      <th>974</th>\n",
       "      <td>2021</td>\n",
       "      <td>Physics</td>\n",
       "      <td>Syukuro Manabe</td>\n",
       "      <td>1931-09-21</td>\n",
       "    </tr>\n",
       "    <tr>\n",
       "      <th>986</th>\n",
       "      <td>2022</td>\n",
       "      <td>Physics</td>\n",
       "      <td>Alain Aspect</td>\n",
       "      <td>1947-06-15</td>\n",
       "    </tr>\n",
       "    <tr>\n",
       "      <th>987</th>\n",
       "      <td>2022</td>\n",
       "      <td>Physics</td>\n",
       "      <td>Anton Zeilinger</td>\n",
       "      <td>1945-05-20</td>\n",
       "    </tr>\n",
       "    <tr>\n",
       "      <th>988</th>\n",
       "      <td>2022</td>\n",
       "      <td>Physics</td>\n",
       "      <td>John Clauser</td>\n",
       "      <td>1942-12-01</td>\n",
       "    </tr>\n",
       "    <tr>\n",
       "      <th>997</th>\n",
       "      <td>2023</td>\n",
       "      <td>Physics</td>\n",
       "      <td>Anne L’Huillier</td>\n",
       "      <td>1958-08-16</td>\n",
       "    </tr>\n",
       "    <tr>\n",
       "      <th>998</th>\n",
       "      <td>2023</td>\n",
       "      <td>Physics</td>\n",
       "      <td>Ferenc Krausz</td>\n",
       "      <td>1962-05-17</td>\n",
       "    </tr>\n",
       "    <tr>\n",
       "      <th>999</th>\n",
       "      <td>2023</td>\n",
       "      <td>Physics</td>\n",
       "      <td>Pierre Agostini</td>\n",
       "      <td>1941-07-23</td>\n",
       "    </tr>\n",
       "  </tbody>\n",
       "</table>\n",
       "</div>"
      ],
      "text/plain": [
       "     year discipline          nobelist         DOB\n",
       "959  2020    Physics       Andrea Ghez  1965-06-16\n",
       "960  2020    Physics   Reinhard Genzel  1952-03-24\n",
       "961  2020    Physics     Roger Penrose  1931-08-08\n",
       "972  2021    Physics    Giorgio Parisi  1948-08-04\n",
       "973  2021    Physics  Klaus Hasselmann  1931-10-25\n",
       "974  2021    Physics    Syukuro Manabe  1931-09-21\n",
       "986  2022    Physics      Alain Aspect  1947-06-15\n",
       "987  2022    Physics   Anton Zeilinger  1945-05-20\n",
       "988  2022    Physics      John Clauser  1942-12-01\n",
       "997  2023    Physics   Anne L’Huillier  1958-08-16\n",
       "998  2023    Physics     Ferenc Krausz  1962-05-17\n",
       "999  2023    Physics   Pierre Agostini  1941-07-23"
      ]
     },
     "execution_count": 17,
     "metadata": {},
     "output_type": "execute_result"
    }
   ],
   "source": [
    "nobels[(nobels.discipline == 'Physics') & (nobels.year > 2019)]"
   ]
  },
  {
   "cell_type": "code",
   "execution_count": 18,
   "metadata": {},
   "outputs": [
    {
     "name": "stderr",
     "output_type": "stream",
     "text": [
      "C:\\Users\\SamSc\\AppData\\Local\\Temp\\ipykernel_12984\\3772809870.py:1: RuntimeWarning: Engine has switched to 'python' because numexpr does not support extension array dtypes. Please set your engine to python manually.\n",
      "  nobels.query('discipline == \"Chemistry\" and year < 1910')\n"
     ]
    },
    {
     "data": {
      "text/html": [
       "<div>\n",
       "<style scoped>\n",
       "    .dataframe tbody tr th:only-of-type {\n",
       "        vertical-align: middle;\n",
       "    }\n",
       "\n",
       "    .dataframe tbody tr th {\n",
       "        vertical-align: top;\n",
       "    }\n",
       "\n",
       "    .dataframe thead th {\n",
       "        text-align: right;\n",
       "    }\n",
       "</style>\n",
       "<table border=\"1\" class=\"dataframe\">\n",
       "  <thead>\n",
       "    <tr style=\"text-align: right;\">\n",
       "      <th></th>\n",
       "      <th>year</th>\n",
       "      <th>discipline</th>\n",
       "      <th>nobelist</th>\n",
       "      <th>DOB</th>\n",
       "    </tr>\n",
       "  </thead>\n",
       "  <tbody>\n",
       "    <tr>\n",
       "      <th>0</th>\n",
       "      <td>1901</td>\n",
       "      <td>Chemistry</td>\n",
       "      <td>Jacobus H. van 't Hoff</td>\n",
       "      <td>1852-08-30</td>\n",
       "    </tr>\n",
       "    <tr>\n",
       "      <th>6</th>\n",
       "      <td>1902</td>\n",
       "      <td>Chemistry</td>\n",
       "      <td>Emil Fischer</td>\n",
       "      <td>1852-10-09</td>\n",
       "    </tr>\n",
       "    <tr>\n",
       "      <th>13</th>\n",
       "      <td>1903</td>\n",
       "      <td>Chemistry</td>\n",
       "      <td>Svante Arrhenius</td>\n",
       "      <td>1859-02-19</td>\n",
       "    </tr>\n",
       "    <tr>\n",
       "      <th>20</th>\n",
       "      <td>1904</td>\n",
       "      <td>Chemistry</td>\n",
       "      <td>Sir William Ramsay</td>\n",
       "      <td>1852-10-02</td>\n",
       "    </tr>\n",
       "    <tr>\n",
       "      <th>26</th>\n",
       "      <td>1905</td>\n",
       "      <td>Chemistry</td>\n",
       "      <td>Adolf von Baeyer</td>\n",
       "      <td>1835-10-31</td>\n",
       "    </tr>\n",
       "    <tr>\n",
       "      <th>31</th>\n",
       "      <td>1906</td>\n",
       "      <td>Chemistry</td>\n",
       "      <td>Henri Moissan</td>\n",
       "      <td>1852-09-28</td>\n",
       "    </tr>\n",
       "    <tr>\n",
       "      <th>37</th>\n",
       "      <td>1907</td>\n",
       "      <td>Chemistry</td>\n",
       "      <td>Eduard Buchner</td>\n",
       "      <td>1860-05-20</td>\n",
       "    </tr>\n",
       "    <tr>\n",
       "      <th>43</th>\n",
       "      <td>1908</td>\n",
       "      <td>Chemistry</td>\n",
       "      <td>Ernest Rutherford</td>\n",
       "      <td>1871-08-30</td>\n",
       "    </tr>\n",
       "    <tr>\n",
       "      <th>50</th>\n",
       "      <td>1909</td>\n",
       "      <td>Chemistry</td>\n",
       "      <td>Wilhelm Ostwald</td>\n",
       "      <td>1853-09-02</td>\n",
       "    </tr>\n",
       "  </tbody>\n",
       "</table>\n",
       "</div>"
      ],
      "text/plain": [
       "    year discipline                nobelist         DOB\n",
       "0   1901  Chemistry  Jacobus H. van 't Hoff  1852-08-30\n",
       "6   1902  Chemistry            Emil Fischer  1852-10-09\n",
       "13  1903  Chemistry        Svante Arrhenius  1859-02-19\n",
       "20  1904  Chemistry      Sir William Ramsay  1852-10-02\n",
       "26  1905  Chemistry        Adolf von Baeyer  1835-10-31\n",
       "31  1906  Chemistry           Henri Moissan  1852-09-28\n",
       "37  1907  Chemistry          Eduard Buchner  1860-05-20\n",
       "43  1908  Chemistry       Ernest Rutherford  1871-08-30\n",
       "50  1909  Chemistry         Wilhelm Ostwald  1853-09-02"
      ]
     },
     "execution_count": 18,
     "metadata": {},
     "output_type": "execute_result"
    }
   ],
   "source": [
    "nobels.query('discipline == \"Chemistry\" and year < 1910')"
   ]
  },
  {
   "cell_type": "code",
   "execution_count": 19,
   "metadata": {},
   "outputs": [
    {
     "ename": "KeyError",
     "evalue": "False",
     "output_type": "error",
     "traceback": [
      "\u001b[1;31m---------------------------------------------------------------------------\u001b[0m",
      "\u001b[1;31mKeyError\u001b[0m                                  Traceback (most recent call last)",
      "File \u001b[1;32md:\\Users\\SamSc\\anaconda3\\Lib\\site-packages\\pandas\\core\\indexes\\base.py:3805\u001b[0m, in \u001b[0;36mIndex.get_loc\u001b[1;34m(self, key)\u001b[0m\n\u001b[0;32m   3804\u001b[0m \u001b[38;5;28;01mtry\u001b[39;00m:\n\u001b[1;32m-> 3805\u001b[0m     \u001b[38;5;28;01mreturn\u001b[39;00m \u001b[38;5;28mself\u001b[39m\u001b[38;5;241m.\u001b[39m_engine\u001b[38;5;241m.\u001b[39mget_loc(casted_key)\n\u001b[0;32m   3806\u001b[0m \u001b[38;5;28;01mexcept\u001b[39;00m \u001b[38;5;167;01mKeyError\u001b[39;00m \u001b[38;5;28;01mas\u001b[39;00m err:\n",
      "File \u001b[1;32mindex.pyx:167\u001b[0m, in \u001b[0;36mpandas._libs.index.IndexEngine.get_loc\u001b[1;34m()\u001b[0m\n",
      "File \u001b[1;32mindex.pyx:196\u001b[0m, in \u001b[0;36mpandas._libs.index.IndexEngine.get_loc\u001b[1;34m()\u001b[0m\n",
      "File \u001b[1;32mpandas\\\\_libs\\\\hashtable_class_helper.pxi:7081\u001b[0m, in \u001b[0;36mpandas._libs.hashtable.PyObjectHashTable.get_item\u001b[1;34m()\u001b[0m\n",
      "File \u001b[1;32mpandas\\\\_libs\\\\hashtable_class_helper.pxi:7089\u001b[0m, in \u001b[0;36mpandas._libs.hashtable.PyObjectHashTable.get_item\u001b[1;34m()\u001b[0m\n",
      "\u001b[1;31mKeyError\u001b[0m: False",
      "\nThe above exception was the direct cause of the following exception:\n",
      "\u001b[1;31mKeyError\u001b[0m                                  Traceback (most recent call last)",
      "Cell \u001b[1;32mIn[19], line 1\u001b[0m\n\u001b[1;32m----> 1\u001b[0m nobels[\u001b[38;5;124m'\u001b[39m\u001b[38;5;124mCurie\u001b[39m\u001b[38;5;124m'\u001b[39m \u001b[38;5;129;01min\u001b[39;00m nobels\u001b[38;5;241m.\u001b[39mnobelist]\n",
      "File \u001b[1;32md:\\Users\\SamSc\\anaconda3\\Lib\\site-packages\\pandas\\core\\frame.py:4102\u001b[0m, in \u001b[0;36mDataFrame.__getitem__\u001b[1;34m(self, key)\u001b[0m\n\u001b[0;32m   4100\u001b[0m \u001b[38;5;28;01mif\u001b[39;00m \u001b[38;5;28mself\u001b[39m\u001b[38;5;241m.\u001b[39mcolumns\u001b[38;5;241m.\u001b[39mnlevels \u001b[38;5;241m>\u001b[39m \u001b[38;5;241m1\u001b[39m:\n\u001b[0;32m   4101\u001b[0m     \u001b[38;5;28;01mreturn\u001b[39;00m \u001b[38;5;28mself\u001b[39m\u001b[38;5;241m.\u001b[39m_getitem_multilevel(key)\n\u001b[1;32m-> 4102\u001b[0m indexer \u001b[38;5;241m=\u001b[39m \u001b[38;5;28mself\u001b[39m\u001b[38;5;241m.\u001b[39mcolumns\u001b[38;5;241m.\u001b[39mget_loc(key)\n\u001b[0;32m   4103\u001b[0m \u001b[38;5;28;01mif\u001b[39;00m is_integer(indexer):\n\u001b[0;32m   4104\u001b[0m     indexer \u001b[38;5;241m=\u001b[39m [indexer]\n",
      "File \u001b[1;32md:\\Users\\SamSc\\anaconda3\\Lib\\site-packages\\pandas\\core\\indexes\\base.py:3812\u001b[0m, in \u001b[0;36mIndex.get_loc\u001b[1;34m(self, key)\u001b[0m\n\u001b[0;32m   3807\u001b[0m     \u001b[38;5;28;01mif\u001b[39;00m \u001b[38;5;28misinstance\u001b[39m(casted_key, \u001b[38;5;28mslice\u001b[39m) \u001b[38;5;129;01mor\u001b[39;00m (\n\u001b[0;32m   3808\u001b[0m         \u001b[38;5;28misinstance\u001b[39m(casted_key, abc\u001b[38;5;241m.\u001b[39mIterable)\n\u001b[0;32m   3809\u001b[0m         \u001b[38;5;129;01mand\u001b[39;00m \u001b[38;5;28many\u001b[39m(\u001b[38;5;28misinstance\u001b[39m(x, \u001b[38;5;28mslice\u001b[39m) \u001b[38;5;28;01mfor\u001b[39;00m x \u001b[38;5;129;01min\u001b[39;00m casted_key)\n\u001b[0;32m   3810\u001b[0m     ):\n\u001b[0;32m   3811\u001b[0m         \u001b[38;5;28;01mraise\u001b[39;00m InvalidIndexError(key)\n\u001b[1;32m-> 3812\u001b[0m     \u001b[38;5;28;01mraise\u001b[39;00m \u001b[38;5;167;01mKeyError\u001b[39;00m(key) \u001b[38;5;28;01mfrom\u001b[39;00m\u001b[38;5;250m \u001b[39m\u001b[38;5;21;01merr\u001b[39;00m\n\u001b[0;32m   3813\u001b[0m \u001b[38;5;28;01mexcept\u001b[39;00m \u001b[38;5;167;01mTypeError\u001b[39;00m:\n\u001b[0;32m   3814\u001b[0m     \u001b[38;5;66;03m# If we have a listlike key, _check_indexing_error will raise\u001b[39;00m\n\u001b[0;32m   3815\u001b[0m     \u001b[38;5;66;03m#  InvalidIndexError. Otherwise we fall through and re-raise\u001b[39;00m\n\u001b[0;32m   3816\u001b[0m     \u001b[38;5;66;03m#  the TypeError.\u001b[39;00m\n\u001b[0;32m   3817\u001b[0m     \u001b[38;5;28mself\u001b[39m\u001b[38;5;241m.\u001b[39m_check_indexing_error(key)\n",
      "\u001b[1;31mKeyError\u001b[0m: False"
     ]
    }
   ],
   "source": [
    "nobels['Curie' in nobels.nobelist]"
   ]
  },
  {
   "cell_type": "code",
   "execution_count": 20,
   "metadata": {},
   "outputs": [
    {
     "data": {
      "text/html": [
       "<div>\n",
       "<style scoped>\n",
       "    .dataframe tbody tr th:only-of-type {\n",
       "        vertical-align: middle;\n",
       "    }\n",
       "\n",
       "    .dataframe tbody tr th {\n",
       "        vertical-align: top;\n",
       "    }\n",
       "\n",
       "    .dataframe thead th {\n",
       "        text-align: right;\n",
       "    }\n",
       "</style>\n",
       "<table border=\"1\" class=\"dataframe\">\n",
       "  <thead>\n",
       "    <tr style=\"text-align: right;\">\n",
       "      <th></th>\n",
       "      <th>year</th>\n",
       "      <th>discipline</th>\n",
       "      <th>nobelist</th>\n",
       "      <th>DOB</th>\n",
       "    </tr>\n",
       "  </thead>\n",
       "  <tbody>\n",
       "    <tr>\n",
       "      <th>18</th>\n",
       "      <td>1903</td>\n",
       "      <td>Physics</td>\n",
       "      <td>Marie Curie</td>\n",
       "      <td>1867-11-07</td>\n",
       "    </tr>\n",
       "    <tr>\n",
       "      <th>19</th>\n",
       "      <td>1903</td>\n",
       "      <td>Physics</td>\n",
       "      <td>Pierre Curie</td>\n",
       "      <td>1859-05-15</td>\n",
       "    </tr>\n",
       "    <tr>\n",
       "      <th>62</th>\n",
       "      <td>1911</td>\n",
       "      <td>Chemistry</td>\n",
       "      <td>Marie Curie</td>\n",
       "      <td>1867-11-07</td>\n",
       "    </tr>\n",
       "    <tr>\n",
       "      <th>179</th>\n",
       "      <td>1935</td>\n",
       "      <td>Chemistry</td>\n",
       "      <td>Irène Joliot-Curie</td>\n",
       "      <td>1897-09-12</td>\n",
       "    </tr>\n",
       "  </tbody>\n",
       "</table>\n",
       "</div>"
      ],
      "text/plain": [
       "     year discipline            nobelist         DOB\n",
       "18   1903    Physics         Marie Curie  1867-11-07\n",
       "19   1903    Physics        Pierre Curie  1859-05-15\n",
       "62   1911  Chemistry         Marie Curie  1867-11-07\n",
       "179  1935  Chemistry  Irène Joliot-Curie  1897-09-12"
      ]
     },
     "execution_count": 20,
     "metadata": {},
     "output_type": "execute_result"
    }
   ],
   "source": [
    "nobels[nobels.nobelist.str.contains('Curie')]"
   ]
  },
  {
   "cell_type": "code",
   "execution_count": 21,
   "metadata": {},
   "outputs": [],
   "source": [
    "disco = np.load('discography.npy')"
   ]
  },
  {
   "cell_type": "code",
   "execution_count": 22,
   "metadata": {},
   "outputs": [
    {
     "data": {
      "text/plain": [
       "array([('David Bowie', '1969-11-14', 17),\n",
       "       ('The Man Who Sold the World', '1970-11-04',  3),\n",
       "       ('Hunky Dory', '1971-12-17',  5),\n",
       "       ('Ziggy Stardust', '1972-06-16',  1),\n",
       "       ('Aladdin Sane', '1973-04-13',  1), ('Pin Ups', '1973-10-19',  1),\n",
       "       ('Diamond Dogs', '1974-05-24',  1),\n",
       "       ('Young Americans', '1975-03-07',  2),\n",
       "       ('Station To Station', '1976-01-23',  5),\n",
       "       ('Low', '1977-01-14',  2), ('Heroes', '1977-10-14',  3),\n",
       "       ('Lodger', '1979-05-18',  4)],\n",
       "      dtype=[('title', '<U32'), ('release', '<M8[D]'), ('toprank', '<i8')])"
      ]
     },
     "execution_count": 22,
     "metadata": {},
     "output_type": "execute_result"
    }
   ],
   "source": [
    "disco"
   ]
  },
  {
   "cell_type": "code",
   "execution_count": 23,
   "metadata": {},
   "outputs": [],
   "source": [
    "disco_df = pd.DataFrame(disco)"
   ]
  },
  {
   "cell_type": "code",
   "execution_count": 24,
   "metadata": {},
   "outputs": [
    {
     "data": {
      "text/html": [
       "<div>\n",
       "<style scoped>\n",
       "    .dataframe tbody tr th:only-of-type {\n",
       "        vertical-align: middle;\n",
       "    }\n",
       "\n",
       "    .dataframe tbody tr th {\n",
       "        vertical-align: top;\n",
       "    }\n",
       "\n",
       "    .dataframe thead th {\n",
       "        text-align: right;\n",
       "    }\n",
       "</style>\n",
       "<table border=\"1\" class=\"dataframe\">\n",
       "  <thead>\n",
       "    <tr style=\"text-align: right;\">\n",
       "      <th></th>\n",
       "      <th>title</th>\n",
       "      <th>release</th>\n",
       "      <th>toprank</th>\n",
       "    </tr>\n",
       "  </thead>\n",
       "  <tbody>\n",
       "    <tr>\n",
       "      <th>0</th>\n",
       "      <td>David Bowie</td>\n",
       "      <td>1969-11-14</td>\n",
       "      <td>17</td>\n",
       "    </tr>\n",
       "    <tr>\n",
       "      <th>1</th>\n",
       "      <td>The Man Who Sold the World</td>\n",
       "      <td>1970-11-04</td>\n",
       "      <td>3</td>\n",
       "    </tr>\n",
       "    <tr>\n",
       "      <th>2</th>\n",
       "      <td>Hunky Dory</td>\n",
       "      <td>1971-12-17</td>\n",
       "      <td>5</td>\n",
       "    </tr>\n",
       "    <tr>\n",
       "      <th>3</th>\n",
       "      <td>Ziggy Stardust</td>\n",
       "      <td>1972-06-16</td>\n",
       "      <td>1</td>\n",
       "    </tr>\n",
       "    <tr>\n",
       "      <th>4</th>\n",
       "      <td>Aladdin Sane</td>\n",
       "      <td>1973-04-13</td>\n",
       "      <td>1</td>\n",
       "    </tr>\n",
       "  </tbody>\n",
       "</table>\n",
       "</div>"
      ],
      "text/plain": [
       "                        title    release  toprank\n",
       "0                 David Bowie 1969-11-14       17\n",
       "1  The Man Who Sold the World 1970-11-04        3\n",
       "2                  Hunky Dory 1971-12-17        5\n",
       "3              Ziggy Stardust 1972-06-16        1\n",
       "4                Aladdin Sane 1973-04-13        1"
      ]
     },
     "execution_count": 24,
     "metadata": {},
     "output_type": "execute_result"
    }
   ],
   "source": [
    "disco_df.head()"
   ]
  },
  {
   "cell_type": "code",
   "execution_count": 25,
   "metadata": {},
   "outputs": [
    {
     "data": {
      "text/plain": [
       "title             object\n",
       "release    datetime64[s]\n",
       "toprank            int64\n",
       "dtype: object"
      ]
     },
     "execution_count": 25,
     "metadata": {},
     "output_type": "execute_result"
    }
   ],
   "source": [
    "disco_df.dtypes"
   ]
  },
  {
   "cell_type": "code",
   "execution_count": 26,
   "metadata": {},
   "outputs": [],
   "source": [
    "disco_df = disco_df.convert_dtypes(dtype_backend='pyarrow')"
   ]
  },
  {
   "cell_type": "code",
   "execution_count": 27,
   "metadata": {},
   "outputs": [
    {
     "data": {
      "text/plain": [
       "title            string[pyarrow]\n",
       "release    timestamp[s][pyarrow]\n",
       "toprank           int64[pyarrow]\n",
       "dtype: object"
      ]
     },
     "execution_count": 27,
     "metadata": {},
     "output_type": "execute_result"
    }
   ],
   "source": [
    "disco_df.dtypes"
   ]
  },
  {
   "cell_type": "code",
   "execution_count": 28,
   "metadata": {},
   "outputs": [
    {
     "data": {
      "text/html": [
       "<div>\n",
       "<style scoped>\n",
       "    .dataframe tbody tr th:only-of-type {\n",
       "        vertical-align: middle;\n",
       "    }\n",
       "\n",
       "    .dataframe tbody tr th {\n",
       "        vertical-align: top;\n",
       "    }\n",
       "\n",
       "    .dataframe thead th {\n",
       "        text-align: right;\n",
       "    }\n",
       "</style>\n",
       "<table border=\"1\" class=\"dataframe\">\n",
       "  <thead>\n",
       "    <tr style=\"text-align: right;\">\n",
       "      <th></th>\n",
       "      <th>title</th>\n",
       "      <th>year</th>\n",
       "    </tr>\n",
       "  </thead>\n",
       "  <tbody>\n",
       "    <tr>\n",
       "      <th>0</th>\n",
       "      <td>David Bowie</td>\n",
       "      <td>1969</td>\n",
       "    </tr>\n",
       "    <tr>\n",
       "      <th>1</th>\n",
       "      <td>The Man Who Sold the World</td>\n",
       "      <td>1970</td>\n",
       "    </tr>\n",
       "    <tr>\n",
       "      <th>2</th>\n",
       "      <td>Hunky Dory</td>\n",
       "      <td>1971</td>\n",
       "    </tr>\n",
       "  </tbody>\n",
       "</table>\n",
       "</div>"
      ],
      "text/plain": [
       "                        title  year\n",
       "0                 David Bowie  1969\n",
       "1  The Man Who Sold the World  1970\n",
       "2                  Hunky Dory  1971"
      ]
     },
     "execution_count": 28,
     "metadata": {},
     "output_type": "execute_result"
    }
   ],
   "source": [
    "pd.DataFrame([{'title': 'David Bowie', 'year': 1969},\n",
    "              {'title': 'The Man Who Sold the World', 'year': 1970},\n",
    "              {'title': 'Hunky Dory', 'year': 1971}])"
   ]
  },
  {
   "cell_type": "code",
   "execution_count": 29,
   "metadata": {},
   "outputs": [
    {
     "data": {
      "text/html": [
       "<div>\n",
       "<style scoped>\n",
       "    .dataframe tbody tr th:only-of-type {\n",
       "        vertical-align: middle;\n",
       "    }\n",
       "\n",
       "    .dataframe tbody tr th {\n",
       "        vertical-align: top;\n",
       "    }\n",
       "\n",
       "    .dataframe thead th {\n",
       "        text-align: right;\n",
       "    }\n",
       "</style>\n",
       "<table border=\"1\" class=\"dataframe\">\n",
       "  <thead>\n",
       "    <tr style=\"text-align: right;\">\n",
       "      <th></th>\n",
       "      <th>title</th>\n",
       "      <th>toprank</th>\n",
       "    </tr>\n",
       "  </thead>\n",
       "  <tbody>\n",
       "    <tr>\n",
       "      <th>0</th>\n",
       "      <td>Ziggy Stardust</td>\n",
       "      <td>1</td>\n",
       "    </tr>\n",
       "    <tr>\n",
       "      <th>1</th>\n",
       "      <td>Aladdin Sane</td>\n",
       "      <td>1</td>\n",
       "    </tr>\n",
       "    <tr>\n",
       "      <th>2</th>\n",
       "      <td>Pin Ups</td>\n",
       "      <td>1</td>\n",
       "    </tr>\n",
       "  </tbody>\n",
       "</table>\n",
       "</div>"
      ],
      "text/plain": [
       "            title  toprank\n",
       "0  Ziggy Stardust        1\n",
       "1    Aladdin Sane        1\n",
       "2         Pin Ups        1"
      ]
     },
     "execution_count": 29,
     "metadata": {},
     "output_type": "execute_result"
    }
   ],
   "source": [
    "pd.DataFrame([('Ziggy Stardust', 1), ('Aladdin Sane', 1), ('Pin Ups', 1)], columns=['title', 'toprank'])"
   ]
  },
  {
   "cell_type": "code",
   "execution_count": 30,
   "metadata": {},
   "outputs": [
    {
     "data": {
      "text/html": [
       "<div>\n",
       "<style scoped>\n",
       "    .dataframe tbody tr th:only-of-type {\n",
       "        vertical-align: middle;\n",
       "    }\n",
       "\n",
       "    .dataframe tbody tr th {\n",
       "        vertical-align: top;\n",
       "    }\n",
       "\n",
       "    .dataframe thead th {\n",
       "        text-align: right;\n",
       "    }\n",
       "</style>\n",
       "<table border=\"1\" class=\"dataframe\">\n",
       "  <thead>\n",
       "    <tr style=\"text-align: right;\">\n",
       "      <th></th>\n",
       "      <th>title</th>\n",
       "      <th>release</th>\n",
       "    </tr>\n",
       "  </thead>\n",
       "  <tbody>\n",
       "    <tr>\n",
       "      <th>0</th>\n",
       "      <td>David Bowie</td>\n",
       "      <td>1969-11-14</td>\n",
       "    </tr>\n",
       "    <tr>\n",
       "      <th>1</th>\n",
       "      <td>The Man Who Sold the World</td>\n",
       "      <td>1970-11-04</td>\n",
       "    </tr>\n",
       "    <tr>\n",
       "      <th>2</th>\n",
       "      <td>Hunky Dory</td>\n",
       "      <td>1971-12-17</td>\n",
       "    </tr>\n",
       "    <tr>\n",
       "      <th>3</th>\n",
       "      <td>Ziggy Stardust</td>\n",
       "      <td>1972-06-16</td>\n",
       "    </tr>\n",
       "    <tr>\n",
       "      <th>4</th>\n",
       "      <td>Aladdin Sane</td>\n",
       "      <td>1973-04-13</td>\n",
       "    </tr>\n",
       "    <tr>\n",
       "      <th>5</th>\n",
       "      <td>Pin Ups</td>\n",
       "      <td>1973-10-19</td>\n",
       "    </tr>\n",
       "    <tr>\n",
       "      <th>6</th>\n",
       "      <td>Diamond Dogs</td>\n",
       "      <td>1974-05-24</td>\n",
       "    </tr>\n",
       "    <tr>\n",
       "      <th>7</th>\n",
       "      <td>Young Americans</td>\n",
       "      <td>1975-03-07</td>\n",
       "    </tr>\n",
       "    <tr>\n",
       "      <th>8</th>\n",
       "      <td>Station To Station</td>\n",
       "      <td>1976-01-23</td>\n",
       "    </tr>\n",
       "    <tr>\n",
       "      <th>9</th>\n",
       "      <td>Low</td>\n",
       "      <td>1977-01-14</td>\n",
       "    </tr>\n",
       "    <tr>\n",
       "      <th>10</th>\n",
       "      <td>Heroes</td>\n",
       "      <td>1977-10-14</td>\n",
       "    </tr>\n",
       "    <tr>\n",
       "      <th>11</th>\n",
       "      <td>Lodger</td>\n",
       "      <td>1979-05-18</td>\n",
       "    </tr>\n",
       "  </tbody>\n",
       "</table>\n",
       "</div>"
      ],
      "text/plain": [
       "                         title     release\n",
       "0                  David Bowie  1969-11-14\n",
       "1   The Man Who Sold the World  1970-11-04\n",
       "2                   Hunky Dory  1971-12-17\n",
       "3               Ziggy Stardust  1972-06-16\n",
       "4                 Aladdin Sane  1973-04-13\n",
       "5                      Pin Ups  1973-10-19\n",
       "6                 Diamond Dogs  1974-05-24\n",
       "7              Young Americans  1975-03-07\n",
       "8           Station To Station  1976-01-23\n",
       "9                          Low  1977-01-14\n",
       "10                      Heroes  1977-10-14\n",
       "11                      Lodger  1979-05-18"
      ]
     },
     "execution_count": 30,
     "metadata": {},
     "output_type": "execute_result"
    }
   ],
   "source": [
    "pd.DataFrame({'title': ['David Bowie', 'The Man Who Sold the World', 'Hunky Dory',\n",
    "                        'Ziggy Stardust', 'Aladdin Sane', 'Pin Ups', 'Diamond Dogs',\n",
    "                        'Young Americans', 'Station To Station', 'Low', 'Heroes', 'Lodger'],\n",
    "              'release': ['1969-11-14', '1970-11-04', '1971-12-17', '1972-06-16',\n",
    "                          '1973-04-13', '1973-10-19', '1974-05-24', '1975-03-07',\n",
    "                          '1976-01-23', '1977-01-14', '1977-10-14', '1979-05-18']})"
   ]
  }
 ],
 "metadata": {
  "kernelspec": {
   "display_name": "base",
   "language": "python",
   "name": "python3"
  },
  "language_info": {
   "codemirror_mode": {
    "name": "ipython",
    "version": 3
   },
   "file_extension": ".py",
   "mimetype": "text/x-python",
   "name": "python",
   "nbconvert_exporter": "python",
   "pygments_lexer": "ipython3",
   "version": "3.13.5"
  }
 },
 "nbformat": 4,
 "nbformat_minor": 4
}
